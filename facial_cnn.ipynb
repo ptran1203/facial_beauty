{
  "nbformat": 4,
  "nbformat_minor": 0,
  "metadata": {
    "colab": {
      "name": "facial_cnn.ipynb",
      "provenance": [],
      "collapsed_sections": []
    },
    "kernelspec": {
      "name": "python3",
      "display_name": "Python 3"
    },
    "accelerator": "GPU"
  },
  "cells": [
    {
      "cell_type": "code",
      "metadata": {
        "id": "I3Y-FAsXffGD",
        "colab_type": "code",
        "outputId": "16dfdcb4-f486-405a-a6f6-7d79c88a919e",
        "colab": {
          "base_uri": "https://localhost:8080/",
          "height": 80
        }
      },
      "source": [
        "# Verify GPU\n",
        "import tensorflow as tf \n",
        "tf.test.gpu_device_name()"
      ],
      "execution_count": 2,
      "outputs": [
        {
          "output_type": "display_data",
          "data": {
            "text/html": [
              "<p style=\"color: red;\">\n",
              "The default version of TensorFlow in Colab will soon switch to TensorFlow 2.x.<br>\n",
              "We recommend you <a href=\"https://www.tensorflow.org/guide/migrate\" target=\"_blank\">upgrade</a> now \n",
              "or ensure your notebook will continue to use TensorFlow 1.x via the <code>%tensorflow_version 1.x</code> magic:\n",
              "<a href=\"https://colab.research.google.com/notebooks/tensorflow_version.ipynb\" target=\"_blank\">more info</a>.</p>\n"
            ],
            "text/plain": [
              "<IPython.core.display.HTML object>"
            ]
          },
          "metadata": {
            "tags": []
          }
        },
        {
          "output_type": "execute_result",
          "data": {
            "text/plain": [
              "'/device:GPU:0'"
            ]
          },
          "metadata": {
            "tags": []
          },
          "execution_count": 2
        }
      ]
    },
    {
      "cell_type": "code",
      "metadata": {
        "id": "JAW4po9Vi7yc",
        "colab_type": "code",
        "outputId": "4d14c22b-e664-42bc-fb65-8910b6042722",
        "colab": {
          "base_uri": "https://localhost:8080/",
          "height": 122
        }
      },
      "source": [
        "# Connect to images folder\n",
        "from google.colab import drive\n",
        "drive.mount('/content/drive')"
      ],
      "execution_count": 1,
      "outputs": [
        {
          "output_type": "stream",
          "text": [
            "Go to this URL in a browser: https://accounts.google.com/o/oauth2/auth?client_id=947318989803-6bn6qk8qdgf4n4g3pfee6491hc0brc4i.apps.googleusercontent.com&redirect_uri=urn%3aietf%3awg%3aoauth%3a2.0%3aoob&response_type=code&scope=email%20https%3a%2f%2fwww.googleapis.com%2fauth%2fdocs.test%20https%3a%2f%2fwww.googleapis.com%2fauth%2fdrive%20https%3a%2f%2fwww.googleapis.com%2fauth%2fdrive.photos.readonly%20https%3a%2f%2fwww.googleapis.com%2fauth%2fpeopleapi.readonly\n",
            "\n",
            "Enter your authorization code:\n",
            "··········\n",
            "Mounted at /content/drive\n"
          ],
          "name": "stdout"
        }
      ]
    },
    {
      "cell_type": "code",
      "metadata": {
        "id": "bQw95OWdJf5P",
        "colab_type": "code",
        "colab": {}
      },
      "source": [
        "import pickle\n",
        "import os\n",
        "def pickle_save(object, path):\n",
        "  with open(path, \"wb\") as f:\n",
        "    return pickle.dump(object, f)\n",
        "\n",
        "\n",
        "def pickle_load(path):\n",
        "  with open(path, \"rb\") as f:\n",
        "    return pickle.load(f)\n"
      ],
      "execution_count": 0,
      "outputs": []
    },
    {
      "cell_type": "code",
      "metadata": {
        "id": "DYzMi8BOkRqJ",
        "colab_type": "code",
        "outputId": "32b04ee9-c610-4153-8c7c-0a8df4bce2b7",
        "colab": {
          "base_uri": "https://localhost:8080/",
          "height": 34
        }
      },
      "source": [
        "!ls \"/content/drive/My Drive/Images\""
      ],
      "execution_count": 0,
      "outputs": [
        {
          "output_type": "stream",
          "text": [
            "ls: cannot access '/content/drive/My Drive/Images': No such file or directory\n"
          ],
          "name": "stdout"
        }
      ]
    },
    {
      "cell_type": "code",
      "metadata": {
        "id": "_cECUw6Sgioa",
        "colab_type": "code",
        "colab": {}
      },
      "source": [
        "# Data processing\n",
        "import pandas as pd\n",
        "import cv2\n",
        "\n",
        "IMAGES_DIR = \"/content/drive/My Drive/Images/Images/\"\n",
        "DIR = \"/content/drive/My Drive/Images/\"\n",
        "LABELS = 'https://raw.githubusercontent.com/ptran1203/facial_beauty/master/dataset/all_labels.csv'\n",
        "def dataframe():\n",
        "    df = pd.read_csv(LABELS)\n",
        "    file_names = [IMAGES_DIR + file_name for \\\n",
        "                 file_name in df['filename']]\n",
        "    df['score'] = [str(score) for \\\n",
        "                  score in df['score']]\n",
        "    return df\n",
        "\n",
        "\n",
        "def split(df ,rate):\n",
        "    size = int(len(df) * rate)\n",
        "    df1 = df.iloc[:size, :]\n",
        "    df2 = df.iloc[size:, :]\n",
        "    print(df1)\n",
        "    return (df1, df2)\n",
        "\n",
        "def dataset():\n",
        "    images = []\n",
        "    labels = []\n",
        "    df = pd.read_csv(LABELS)\n",
        "    for idx, row in df.iterrows():\n",
        "      print(\"[process] \", idx)\n",
        "      filepath = IMAGES_DIR + row['filename']\n",
        "      label = row['score']\n",
        "      image = cv2.imread(filepath)\n",
        "      try:\n",
        "        image = cv2.resize(image, (227, 227))\n",
        "      except Exception as e:\n",
        "        pass\n",
        "      images.append(image)\n",
        "      labels.append(label)\n",
        "    return images, labels\n",
        "\n",
        "imgs = pickle_load(DIR + 'images_arr.pkl')\n",
        "labels = pickle_load(DIR + 'labels_arr.pkl')\n"
      ],
      "execution_count": 0,
      "outputs": []
    },
    {
      "cell_type": "code",
      "metadata": {
        "id": "QmwKecKofWo1",
        "colab_type": "code",
        "colab": {
          "base_uri": "https://localhost:8080/",
          "height": 34
        },
        "outputId": "37fa8efe-2551-4340-e377-39ccee67245d"
      },
      "source": [
        "from sklearn.model_selection import train_test_split\n",
        "from keras.preprocessing.image import img_to_array\n",
        "import numpy as np\n",
        "\n",
        "labels_np = np.array(labels)\n",
        "imgs_np = np.array(imgs)\n",
        "\n",
        "\n",
        "\n",
        "(trainX, testX, trainY, testY) = train_test_split(imgs_np,\n",
        "\tlabels_np, test_size=0.25, random_state=42)\n",
        "\n"
      ],
      "execution_count": 5,
      "outputs": [
        {
          "output_type": "stream",
          "text": [
            "Using TensorFlow backend.\n"
          ],
          "name": "stderr"
        }
      ]
    },
    {
      "cell_type": "code",
      "metadata": {
        "id": "ATqQ5-u6JMWu",
        "colab_type": "code",
        "colab": {}
      },
      "source": [
        "import keras\n",
        "from keras.datasets import mnist\n",
        "from keras.models import Sequential\n",
        "from keras.models import model_from_json\n",
        "from keras.optimizers import Adam\n",
        "\n",
        "from keras.layers import Dense, Dropout, Flatten, Activation\n",
        "from keras.layers import Conv2D, MaxPooling2D\n",
        "from keras.layers.core import Activation\n",
        "from keras import backend as K\n",
        "# from keras.preprocessing.image import ImageDataGenerator\n",
        "from keras.preprocessing.image import ImageDataGenerator\n",
        "\n",
        "#import data_processing as dp\n",
        "import numpy as np\n",
        "\n",
        "# Alexnet\n",
        "\n",
        "class AlexNet:\n",
        "    def __init__(self):\n",
        "        model = Sequential()\n",
        "        model.add(Conv2D(kernel_size=(11, 11),\n",
        "                        activation='relu',\n",
        "                        strides=(4, 4),\n",
        "                        filters=96,\n",
        "                        padding='valid',\n",
        "                        input_shape=(227,227,3)))\n",
        "        model.add(MaxPooling2D(pool_size=(2, 2),\n",
        "                            strides=(2, 2),\n",
        "                            padding='valid'))\n",
        "        model.add(Conv2D(filters=256,\n",
        "                        kernel_size=(11, 11),\n",
        "                        strides=(1, 1),\n",
        "                        padding='valid',\n",
        "                        activation='relu'))\n",
        "        model.add(MaxPooling2D(pool_size=(2, 2),\n",
        "                            strides=(2, 2),\n",
        "                            padding='valid'))\n",
        "        model.add(Conv2D(filters=384,\n",
        "                        kernel_size=(3, 3),\n",
        "                        strides=(1, 1),\n",
        "                        padding='valid',\n",
        "                        activation='relu'))\n",
        "        model.add(Conv2D(filters=384,\n",
        "                        kernel_size=(3, 3),\n",
        "                        strides=(1, 1),\n",
        "                        padding='valid',\n",
        "                        activation='relu'))\n",
        "        model.add(Conv2D(filters=256,\n",
        "                        kernel_size=(3, 3),\n",
        "                        strides=(1, 1),\n",
        "                        padding='valid',\n",
        "                        activation='relu'))\n",
        "        model.add(MaxPooling2D(pool_size=(2, 2),\n",
        "                            strides=(2, 2),\n",
        "                            padding='valid'))\n",
        "        model.add(Flatten())\n",
        "        # fully connected\n",
        "        model.add(Dense(9216 ,input_shape=(224, 224, 3), activation='relu'))\n",
        "        model.add(Dropout(0.4))\n",
        "        model.add(Dense(4096, activation='relu'))\n",
        "        model.add(Dropout(0.4))\n",
        "        model.add(Dense(1000, activation='relu'))\n",
        "        model.add(Dropout(0.4))\n",
        "        # output\n",
        "        model.add(Dense(1, activation='linear'))\n",
        "        model.compile(loss='mean_absolute_error',\n",
        "                      optimizer=Adam(lr=1e-4),\n",
        "                      )\n",
        "        self.model = model\n",
        "\n",
        "    def model(self):\n",
        "        return self.model\n",
        "\n",
        "\n",
        "train_datagen = ImageDataGenerator(rescale=1./255, horizontal_flip=True)\n",
        "test_datagen = ImageDataGenerator(rescale=1./255, horizontal_flip=True)\n",
        "\n",
        "# train_df, test_df = split(dataframe(), 0.7)\n",
        "\n",
        "# train_generator = train_datagen.flow_from_dataframe(\n",
        "#         dataframe=train_df,\n",
        "#         x_col=\"filename\",\n",
        "#         y_col=\"score\",\n",
        "#         target_size=(227, 227),\n",
        "#         class_mode='sparse')\n",
        "\n",
        "# print(train_df)\n",
        "# exit(0)\n",
        "# validation_generator = test_datagen.flow_from_dataframe(\n",
        "#         dataframe=test_df,\n",
        "#         x_col=\"filename\",\n",
        "#         y_col=\"score\",\n",
        "#         target_size=(227, 227),\n",
        "#         class_mode='sparse')\n",
        "\n",
        "alax = AlexNet()\n",
        "model = alax.model\n",
        "H = model.fit_generator(\n",
        "        train_datagen.flow(trainX, trainY, batch_size=200),\n",
        "        steps_per_epoch=len(trainX) // 200,\n",
        "        epochs=100,\n",
        "        validation_data=test_datagen.flow(testX, testY),\n",
        "        )\n",
        "\n"
      ],
      "execution_count": 0,
      "outputs": []
    },
    {
      "cell_type": "code",
      "metadata": {
        "id": "28tXFGiqn-0n",
        "colab_type": "code",
        "colab": {}
      },
      "source": [
        "\n",
        "# Save model, ...\n",
        "storage_path = \"/content/drive/My Drive/Images\"\n",
        "pickle_save(labels_np, os.path.join(storage_path, \"labels_np.pkl\"))\n",
        "pickle_save(imgs_np, os.path.join(storage_path, \"images_np.pkl\"))\n",
        "model.save(storage_path + '/' + 'model.h5')\n",
        "pickle_save(H, os.path.join(storage_path, \"history.pkl\"))\n"
      ],
      "execution_count": 0,
      "outputs": []
    },
    {
      "cell_type": "code",
      "metadata": {
        "id": "o4LOoLO3mTXf",
        "colab_type": "code",
        "outputId": "97b6a607-c615-48a3-b837-615c58a8e59b",
        "colab": {
          "base_uri": "https://localhost:8080/",
          "height": 102
        }
      },
      "source": [
        "# Testing\n",
        "\n",
        "imgpaths = [\n",
        "  'https://encrypted-tbn0.gstatic.com/images?q=tbn:ANd9GcRw8S0D2cLWckXKsBKzOWNV-TNQA0RgFysLqAIopkosoIDNShSL&s',\n",
        "  'data:image/jpeg;base64,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',\n",
        "  'https://encrypted-tbn0.gstatic.com/images?q=tbn:ANd9GcQM1KzeoH8xv7U_-ZE_-LNGEnSNTuudDNrIPh-YmGFrqYmiNoRnOA&s',\n",
        "  'https://encrypted-tbn0.gstatic.com/images?q=tbn:ANd9GcS9Xo66Yk4iO_Yn_HJp2vMe1B4YDcHHdbiV1XUXnJtmyWJO2RvhwQ&s',\n",
        "  'https://encrypted-tbn0.gstatic.com/images?q=tbn:ANd9GcTGL1JKRw4b3nneDMJepKhDAkB2F7bX270Fjnl50x4DTmZbEECyqA&s'\n",
        "]\n",
        "import urllib.request\n",
        "from PIL import Image\n",
        "\n",
        "imgs_input = []\n",
        "for path in imgpaths:\n",
        "  req = urllib.request.urlopen(path)\n",
        "  arr = np.asarray(bytearray(req.read()), dtype=np.uint8)\n",
        "  img = cv2.imdecode(arr, -1)\n",
        "  img = cv2.resize(img, (227, 227)) / 255.0\n",
        "  img = np.expand_dims(img, axis=0)\n",
        "  p = model.predict(img)[0]\n",
        "\n"
      ],
      "execution_count": 8,
      "outputs": [
        {
          "output_type": "stream",
          "text": [
            "[[3.0419333]]\n",
            "[[2.885999]]\n",
            "[[2.7845423]]\n",
            "[[3.1951225]]\n",
            "[[4.008596]]\n"
          ],
          "name": "stdout"
        }
      ]
    }
  ]
}